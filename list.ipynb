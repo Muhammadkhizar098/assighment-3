{
 "cells": [
  {
   "cell_type": "markdown",
   "id": "3a2914f1-660a-4656-a55b-1a7c3744a0f7",
   "metadata": {},
   "source": [
    "1-write a programme that accept a list from user  and print the alternate element of list\n"
   ]
  },
  {
   "cell_type": "code",
   "execution_count": 15,
   "id": "339c9696-9e28-4fc6-8b6f-a3574015d97c",
   "metadata": {},
   "outputs": [
    {
     "name": "stdin",
     "output_type": "stream",
     "text": [
      "enter the list 1 2 3 4 5\n"
     ]
    },
    {
     "name": "stdout",
     "output_type": "stream",
     "text": [
      "print alternate  numbers\n",
      "1\n",
      "4\n"
     ]
    }
   ],
   "source": [
    "user_input=input(\"enter the list\")\n",
    "list1=user_input.split()\n",
    "print(\"print alternate  numbers\")\n",
    "for i in range(0,len(list1),3):\n",
    "    print(list1[i])"
   ]
  },
  {
   "cell_type": "code",
   "execution_count": 13,
   "id": "b8ee0e87-e2c2-48a6-81a2-160becc55943",
   "metadata": {},
   "outputs": [
    {
     "name": "stdin",
     "output_type": "stream",
     "text": [
      "Enter elements of list separated by space:  10 20 30\n"
     ]
    },
    {
     "name": "stdout",
     "output_type": "stream",
     "text": [
      "Alternate elements of the list are:\n",
      "10\n",
      "30\n"
     ]
    }
   ],
   "source": [
    "user_input = input(\"Enter elements of list separated by space: \")\n",
    "\n",
    "my_list = user_input.split()\n",
    "\n",
    "\n",
    "print(\"Alternate elements of the list are:\")\n",
    "for i in range(0, len(my_list), 2):\n",
    "    print(my_list[i])\n",
    "    "
   ]
  },
  {
   "cell_type": "code",
   "execution_count": 17,
   "id": "1293514b-d9f8-47e8-b2b0-5c59e0ed923b",
   "metadata": {
    "scrolled": true
   },
   "outputs": [
    {
     "name": "stdin",
     "output_type": "stream",
     "text": [
      "enter the input 12\n",
      "enter the numbers1 654\n",
      "enter the numbers2 657657\n",
      "enter the numbers3 535\n",
      "enter the numbers4 46464\n",
      "enter the numbers5 23543\n",
      "enter the numbers6 54\n",
      "enter the numbers7 64565\n",
      "enter the numbers8 6457\n",
      "enter the numbers9 5657\n",
      "enter the numbers10 754\n",
      "enter the numbers11 757\n",
      "enter the numbers12 435\n"
     ]
    },
    {
     "name": "stdout",
     "output_type": "stream",
     "text": [
      "result\n",
      "654\n",
      "535\n",
      "23543\n",
      "64565\n",
      "5657\n",
      "757\n"
     ]
    }
   ],
   "source": [
    "p=int(input(\"enter the input\"))\n",
    "a=[]\n",
    "for i in range (p):\n",
    "    q=int(input(f\"enter the numbers{i+1}\"))\n",
    "    a. append(q)\n",
    "print(\"result\")\n",
    "for i in range(0,len(a),2):\n",
    " print(a[i])\n",
    "      \n",
    "    "
   ]
  },
  {
   "cell_type": "code",
   "execution_count": 38,
   "id": "4682a0b9-3fef-47d6-bbaf-efefff964432",
   "metadata": {},
   "outputs": [
    {
     "name": "stdin",
     "output_type": "stream",
     "text": [
      "main number  6\n",
      "enter how many element you requirred in list1 4\n",
      "enter how many element you requirred in list2 2\n",
      "enter how many element you requirred in list3 5\n",
      "enter how many element you requirred in list4 3\n",
      "enter how many element you requirred in list5 2\n",
      "enter how many element you requirred in list6 4\n"
     ]
    },
    {
     "name": "stdout",
     "output_type": "stream",
     "text": [
      "lets start the code\n",
      "4\n",
      "2\n",
      "5\n",
      "3\n",
      "2\n",
      "4\n"
     ]
    }
   ],
   "source": [
    "main_input=int(input(\"main number \"))\n",
    "nullist=[]\n",
    "\n",
    "for loop in range(main_input):\n",
    "    z= int(input(f\"enter how many element you requirred in list{loop+1}\"))\n",
    "    nullist.append(z)\n",
    "print(\"lets start the code\")\n",
    "for f in range(0,len(nullist)):\n",
    "    print(nullist[f])"
   ]
  },
  {
   "cell_type": "code",
   "execution_count": 48,
   "id": "8c1312cd-1bf6-4b86-8db6-7b337eee44b8",
   "metadata": {},
   "outputs": [
    {
     "name": "stdin",
     "output_type": "stream",
     "text": [
      "enter the list 22 33 22\n"
     ]
    },
    {
     "name": "stdout",
     "output_type": "stream",
     "text": [
      "['22', '33', '22']\n"
     ]
    }
   ],
   "source": [
    "a=input(\"enter the list\")\n",
    "b =a.split()\n",
    "print(b)\n"
   ]
  },
  {
   "cell_type": "code",
   "execution_count": 47,
   "id": "789c8423-46f2-4c52-bf22-49d821a04d15",
   "metadata": {},
   "outputs": [
    {
     "name": "stdin",
     "output_type": "stream",
     "text": [
      "enter the list 1 2 3 4 6\n"
     ]
    },
    {
     "name": "stdout",
     "output_type": "stream",
     "text": [
      "['1', '2', '3', '4', '6']\n"
     ]
    }
   ],
   "source": [
    "c=input(\"enter the list\").split()\n",
    "print(c)"
   ]
  },
  {
   "cell_type": "code",
   "execution_count": 57,
   "id": "09009bf5-e9cc-43d8-a093-6f763c76b242",
   "metadata": {},
   "outputs": [
    {
     "name": "stdout",
     "output_type": "stream",
     "text": [
      "0 121\n",
      "1 23\n",
      "2 123\n",
      "3 321\n",
      "4 234\n"
     ]
    }
   ],
   "source": [
    "fruit=[121,23,123,321,234,]\n",
    "for x  ,y in enumerate(fruit):\n",
    "    print( x,y)"
   ]
  },
  {
   "cell_type": "markdown",
   "id": "fda27c70-59aa-467b-9b49-00c473286349",
   "metadata": {},
   "source": [
    "2- write a programme that accepts al ist from user. your programme should  reverse the content of list and dislpay it donot use reversal() method."
   ]
  },
  {
   "cell_type": "code",
   "execution_count": 61,
   "id": "63a30de3-b32c-45cf-9c21-3eec5a9a5cad",
   "metadata": {},
   "outputs": [
    {
     "name": "stdin",
     "output_type": "stream",
     "text": [
      "enter the list 9 8 7 6 5 4 3 2 1\n"
     ]
    },
    {
     "name": "stdout",
     "output_type": "stream",
     "text": [
      "your list is ['9', '8', '7', '6', '5', '4', '3', '2', '1']\n",
      "your reverse list is ['1', '2', '3', '4', '5', '6', '7', '8', '9']\n"
     ]
    }
   ],
   "source": [
    "a=input(\"enter the list\").split()\n",
    "print(f\"your list is {a}\")\n",
    "print(f\"your reverse list is {a[::-1]}\")"
   ]
  },
  {
   "cell_type": "code",
   "execution_count": 69,
   "id": "f756dd4c-292c-4612-9194-499e93e2b821",
   "metadata": {},
   "outputs": [
    {
     "name": "stdin",
     "output_type": "stream",
     "text": [
      "enter the list  1 2 3 4 5 6 7 8 9\n"
     ]
    },
    {
     "name": "stdout",
     "output_type": "stream",
     "text": [
      "['9', '8', '7', '6', '5', '4', '3', '2', '1']\n",
      "None\n"
     ]
    }
   ],
   "source": [
    "a=input(\"enter the list\").split()\n",
    "b=a.reverse()\n",
    "print(a)\n",
    "print(b)"
   ]
  },
  {
   "cell_type": "markdown",
   "id": "2408a6da-5891-47a9-ab1c-2883d495dce2",
   "metadata": {},
   "source": [
    "3-find and display the largest number of a list without using builting fuction max().you programe should ask the user to input values in the list from keyboard"
   ]
  },
  {
   "cell_type": "code",
   "execution_count": 79,
   "id": "5ffe2e3a-5d7d-4213-b9b9-4b685d0b7097",
   "metadata": {},
   "outputs": [
    {
     "name": "stdin",
     "output_type": "stream",
     "text": [
      "enter how many time 3\n",
      "enter value 1 2\n",
      "enter value 2 7\n",
      "enter value 3 6\n"
     ]
    },
    {
     "name": "stdout",
     "output_type": "stream",
     "text": [
      "largest number is 7\n"
     ]
    }
   ],
   "source": [
    "repetition=int(input(\"enter how many time\"))\n",
    "ls=[]\n",
    "for q in range(repetition):\n",
    "    w=int(input(f\"enter value {q+1}\"))\n",
    "    ls.append(w)         \n",
    "j=ls[0]\n",
    "for p in ls:\n",
    "    if p>j:\n",
    "      j=p\n",
    "    \n",
    "print(\"largest number is\",j)"
   ]
  },
  {
   "cell_type": "code",
   "execution_count": 81,
   "id": "3fa60dab-252c-48a3-9eaf-b42493a744b4",
   "metadata": {},
   "outputs": [
    {
     "name": "stdin",
     "output_type": "stream",
     "text": [
      "enter how many time 3\n",
      "enter value 1 4\n",
      "enter value 2 4\n",
      "enter value 3 6\n"
     ]
    },
    {
     "name": "stdout",
     "output_type": "stream",
     "text": [
      "6\n"
     ]
    }
   ],
   "source": [
    "repetition=int(input(\"enter how many time\"))\n",
    "ls=[]\n",
    "for q in range(repetition):\n",
    "    w=int(input(f\"enter value {q+1}\"))\n",
    "    ls.append(w)   \n",
    "\n",
    "maxi=max(ls)\n",
    "print(maxi)"
   ]
  },
  {
   "cell_type": "markdown",
   "id": "9cc98a59-7a6e-477f-be0e-d9c33098da46",
   "metadata": {},
   "source": [
    "4-write a programme that rotate the element of a list so that the element of the first index move to the second index,the element in the second index move to the third index ,etc and the element in the last index move to the first index."
   ]
  },
  {
   "cell_type": "code",
   "execution_count": 85,
   "id": "8a9015ca-3ce3-4bce-86ae-afe022fe10a3",
   "metadata": {},
   "outputs": [
    {
     "name": "stdin",
     "output_type": "stream",
     "text": [
      "enter the total number of indexes  23 4 5 2 8 5 67 34\n"
     ]
    },
    {
     "name": "stdout",
     "output_type": "stream",
     "text": [
      "origional list ['23', '4', '5', '2', '8', '5', '67', '34']\n",
      "my list ['34', '23', '4', '5', '2', '8', '5', '67']\n"
     ]
    }
   ],
   "source": [
    " a=input(\"enter the total number of indexes \").split()\n",
    "print(\"origional list\",a)\n",
    "last=a[-1]\n",
    "for q in range(len(a)-1,0,-1):\n",
    "    a[q]=a[q-1]\n",
    "a[0]=last\n",
    "print(\"my list\",a)\n"
   ]
  },
  {
   "cell_type": "code",
   "execution_count": 91,
   "id": "9073be72-9b63-4f94-ac2f-1adf087a02bc",
   "metadata": {},
   "outputs": [
    {
     "name": "stdin",
     "output_type": "stream",
     "text": [
      "enter the list 12 13 12 54 23 \n"
     ]
    },
    {
     "name": "stdout",
     "output_type": "stream",
     "text": [
      "['12', '13', '12', '54', '23']\n",
      "['23', '12', '13', '12', '54']\n"
     ]
    }
   ],
   "source": [
    "a=input(\"enter the list\").split()\n",
    "print(a)\n",
    "last=[a[-1]]+a[:-1]\n",
    "print(last)"
   ]
  },
  {
   "cell_type": "code",
   "execution_count": 96,
   "id": "6d4cead8-ec9b-41e1-80ff-a469020fc288",
   "metadata": {},
   "outputs": [
    {
     "name": "stdin",
     "output_type": "stream",
     "text": [
      "enter the element 1 45 32 76 45 34\n"
     ]
    },
    {
     "name": "stdout",
     "output_type": "stream",
     "text": [
      "hi ['34', '1', '45', '32', '76', '45']\n"
     ]
    }
   ],
   "source": [
    "a=input(\"enter the element\").split()\n",
    "last_value=a.pop()\n",
    "a.insert(0,last_value)\n",
    "print(\"hi\",a)"
   ]
  },
  {
   "cell_type": "markdown",
   "id": "650fd1bd-b06c-4c91-a2f7-bddbc8046c64",
   "metadata": {},
   "source": [
    "5-write a programme that input a string and ask user to delete a given word from a string."
   ]
  },
  {
   "cell_type": "code",
   "execution_count": 2,
   "id": "c63d07e1-fec8-42dd-a65e-bd1f06cc6242",
   "metadata": {},
   "outputs": [
    {
     "name": "stdin",
     "output_type": "stream",
     "text": [
      "enter the string khi maz omr hass huss\n",
      "delete word from string huss\n"
     ]
    },
    {
     "name": "stdout",
     "output_type": "stream",
     "text": [
      "deleted word is  None\n",
      "new list is  ['khi', 'maz', 'omr', 'hass']\n"
     ]
    }
   ],
   "source": [
    "a=input(\"enter the string\").split()\n",
    "b=input(\"delete word from string\")\n",
    "print(\"deleted word is \",d)\n",
    "print(\"new list is \",a)\n",
    " "
   ]
  },
  {
   "cell_type": "code",
   "execution_count": 5,
   "id": "35abfd4e-3674-490b-82c5-2a3cb5df3e99",
   "metadata": {},
   "outputs": [
    {
     "name": "stdin",
     "output_type": "stream",
     "text": [
      "enter the string list khiz khiz1 khiz2 khiz3\n",
      "the string you want to delete khiz\n"
     ]
    },
    {
     "name": "stdout",
     "output_type": "stream",
     "text": [
      "deleted word is  khiz\n",
      " new string table is ['khiz1', 'khiz2', 'khiz3']\n"
     ]
    }
   ],
   "source": [
    "a= input(\"enter the string list\").split()\n",
    "b= input(\"the string you want to delete\")\n",
    "if b in a: \n",
    "    a.remove(b)\n",
    "    print(\"deleted word is \",b)\n",
    "    print(\" new string table is\",a)\n",
    "else:\n",
    "    print(\"word not in list\")"
   ]
  },
  {
   "cell_type": "markdown",
   "id": "e2af9319-1c3e-47a4-b4b4-9fa15a29969b",
   "metadata": {},
   "source": [
    "6-write a programme that read a string from the user containing a date in the form mm/dd/yyyy. it should print the date in the form march 12,2021."
   ]
  },
  {
   "cell_type": "code",
   "execution_count": 11,
   "id": "67175c2d-b307-4fad-9983-13ac0ff43934",
   "metadata": {},
   "outputs": [
    {
     "name": "stdin",
     "output_type": "stream",
     "text": [
      "the date in mm//dd/yyyy  1/3/2024\n"
     ]
    },
    {
     "name": "stdout",
     "output_type": "stream",
     "text": [
      "january 3 2024\n"
     ]
    }
   ],
   "source": [
    "a=input(\"the date in mm//dd/yyyy \")\n",
    "month,day,year=a.split(\"/\")\n",
    "months=['january','febuary','march','april','may','june','july','august','september','october','november','december']\n",
    "month_name=months [int(month)-1]\n",
    "print(f\"{month_name} {int(day)} {year}\")\n"
   ]
  },
  {
   "cell_type": "markdown",
   "id": "a09e0177-d191-45eb-b4f2-95876fd5b00c",
   "metadata": {},
   "source": [
    "7-write a programme with a function that accepts a string from keyboard and create a new string after converting character of each word capatilized for instance if the sentance is \"stop and smell the roses\" the output should be \" Stop And Smell The Roses\"."
   ]
  },
  {
   "cell_type": "code",
   "execution_count": 20,
   "id": "a5da84da-71f4-41dd-b49b-246b75993adc",
   "metadata": {},
   "outputs": [
    {
     "name": "stdin",
     "output_type": "stream",
     "text": [
      "enter khizar how to do\n"
     ]
    },
    {
     "name": "stdout",
     "output_type": "stream",
     "text": [
      "Khizar        How        To        Do\n"
     ]
    }
   ],
   "source": [
    "a=input(\"enter\")\n",
    "c=a.split()\n",
    "b=[]\n",
    "for w in c:\n",
    "    b.append(w[0].upper() +w[1:])\n",
    "result=\"        \".join(b)\n",
    "print(result)"
   ]
  },
  {
   "cell_type": "raw",
   "id": "0b8fb254-abaf-467f-8d06-f9add7627079",
   "metadata": {},
   "source": [
    "8-find the sum of each row of matrix of size m*n for example for the following matrix output will be like this\n",
    "2         11        7        12\n",
    "5          2         9       15\n",
    "8          3        10       42\n",
    "sum of row 1 =32\n",
    "sum of row 2=31\n",
    "sum of row 3=63\n"
   ]
  },
  {
   "cell_type": "code",
   "execution_count": 8,
   "id": "bc88e560-0adb-4050-9ca0-45e875627435",
   "metadata": {},
   "outputs": [
    {
     "name": "stdout",
     "output_type": "stream",
     "text": [
      "sum of matrix1=32\n",
      "sum of matrix2=31\n",
      "sum of matrix3=63\n"
     ]
    }
   ],
   "source": [
    "matrix=[\n",
    "    [2,11,7,12],\n",
    "    [5,2,9,15],\n",
    "    [8,3,10,42],\n",
    "]\n",
    "for i in range(len(matrix)):\n",
    "     summatrix=sum(matrix[i])\n",
    "     print(f\"sum of matrix{i+1}={summatrix}\")\n",
    "                             "
   ]
  },
  {
   "cell_type": "markdown",
   "id": "6cb80def-992b-4c10-9263-4848055a9fa5",
   "metadata": {},
   "source": [
    "9-write a programme to add to matrices of size  n*m"
   ]
  },
  {
   "cell_type": "code",
   "execution_count": 12,
   "id": "870b484d-1cb9-478f-a7dc-bcf9e8f31854",
   "metadata": {},
   "outputs": [
    {
     "name": "stdout",
     "output_type": "stream",
     "text": [
      "[5, 7, 9]\n",
      "[4, 10, 8]\n"
     ]
    }
   ],
   "source": [
    "a=[\n",
    "    [1,2,3],\n",
    "    [3,4,5],\n",
    "]\n",
    "b=[\n",
    "    [4,5,6],\n",
    "    [1,6,3],\n",
    "]\n",
    "\n",
    "c=len(a)\n",
    "d=len(a[0])\n",
    "\n",
    "final_matrix=[]\n",
    "\n",
    "for i in range(c):\n",
    "    nullrow=[]\n",
    "    for j in range(d):\n",
    "        nullrow.append(0)\n",
    "    final_matrix.append(nullrow)\n",
    "\n",
    "for i in range(c):\n",
    "    for j in range(d):\n",
    "        final_matrix[i][j]=a[i][j]+b[i][j]\n",
    "\n",
    "for p in (final_matrix):\n",
    "    print(p)\n",
    "\n",
    "\n",
    "\n",
    "\n",
    "\n"
   ]
  },
  {
   "cell_type": "markdown",
   "id": "b825da8c-5af7-409c-a1f2-22838d5a314a",
   "metadata": {},
   "source": [
    "10-write a programme to multiple two matrix\n"
   ]
  },
  {
   "cell_type": "code",
   "execution_count": 45,
   "id": "fc47dc9f-a70f-47c8-923d-6f37b9603c1d",
   "metadata": {},
   "outputs": [
    {
     "name": "stdout",
     "output_type": "stream",
     "text": [
      "[64, 102]\n",
      "[66, 115]\n"
     ]
    }
   ],
   "source": [
    "a=[\n",
    "    [4,6,8],\n",
    "    [9,5,7],\n",
    "]\n",
    "b=[\n",
    "    [2,5],\n",
    "    [4,7],\n",
    "    [4,5],\n",
    "]\n",
    "\n",
    "rowsa=len(a)\n",
    "colaa=len(a[0])\n",
    "rowsb=len(b)\n",
    "colb=len(b[0])\n",
    "\n",
    "zero_matrix=[]\n",
    "for i in range(rowsa):\n",
    "    nullrow=[]\n",
    "    for j in range(colb):\n",
    "        nullrow.append(0)\n",
    "    zero_matrix.append(nullrow)\n",
    "\n",
    "\n",
    "for i in range(rowsa):\n",
    "    for j in range(colb):\n",
    "        for k in range(colaa):\n",
    "            zero_matrix[i][j]+=a[i][k]*b[k][j]\n",
    "            \n",
    "for s in zero_matrix:\n",
    "    print(s)"
   ]
  },
  {
   "cell_type": "code",
   "execution_count": null,
   "id": "47955d5e-f28e-42d1-9b2b-b32dbfcc5fcb",
   "metadata": {},
   "outputs": [],
   "source": []
  }
 ],
 "metadata": {
  "kernelspec": {
   "display_name": "Python 3 (ipykernel)",
   "language": "python",
   "name": "python3"
  },
  "language_info": {
   "codemirror_mode": {
    "name": "ipython",
    "version": 3
   },
   "file_extension": ".py",
   "mimetype": "text/x-python",
   "name": "python",
   "nbconvert_exporter": "python",
   "pygments_lexer": "ipython3",
   "version": "3.13.5"
  }
 },
 "nbformat": 4,
 "nbformat_minor": 5
}
